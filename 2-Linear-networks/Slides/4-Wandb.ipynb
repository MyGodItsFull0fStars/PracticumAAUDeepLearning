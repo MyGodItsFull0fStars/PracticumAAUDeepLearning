{
 "cells": [
  {
   "cell_type": "markdown",
   "id": "40212943",
   "metadata": {},
   "source": [
    "# Weights & Biases\n",
    "\n",
    "The best way to track your experiments"
   ]
  },
  {
   "cell_type": "markdown",
   "id": "7933828c",
   "metadata": {
    "slideshow": {
     "slide_type": "slide"
    }
   },
   "source": [
    "First create an account on https://wandb.ai/"
   ]
  },
  {
   "cell_type": "markdown",
   "id": "c13a5347",
   "metadata": {},
   "source": [
    "Then, install the Python's API"
   ]
  },
  {
   "cell_type": "code",
   "execution_count": 1,
   "id": "2d156a6d",
   "metadata": {},
   "outputs": [
    {
     "name": "stdout",
     "output_type": "stream",
     "text": [
      "Requirement already satisfied: wandb in /home/ingambe/miniconda3/lib/python3.8/site-packages (0.12.2)\n",
      "Requirement already satisfied: subprocess32>=3.5.3 in /home/ingambe/miniconda3/lib/python3.8/site-packages (from wandb) (3.5.4)\n",
      "Requirement already satisfied: configparser>=3.8.1 in /home/ingambe/miniconda3/lib/python3.8/site-packages (from wandb) (5.0.2)\n",
      "Requirement already satisfied: psutil>=5.0.0 in /home/ingambe/miniconda3/lib/python3.8/site-packages (from wandb) (5.8.0)\n",
      "Requirement already satisfied: PyYAML in /home/ingambe/miniconda3/lib/python3.8/site-packages (from wandb) (5.4.1)\n",
      "Requirement already satisfied: promise<3,>=2.0 in /home/ingambe/miniconda3/lib/python3.8/site-packages (from wandb) (2.3)\n",
      "Requirement already satisfied: six>=1.13.0 in /home/ingambe/miniconda3/lib/python3.8/site-packages (from wandb) (1.15.0)\n",
      "Requirement already satisfied: sentry-sdk>=1.0.0 in /home/ingambe/miniconda3/lib/python3.8/site-packages (from wandb) (1.4.1)\n",
      "Requirement already satisfied: docker-pycreds>=0.4.0 in /home/ingambe/miniconda3/lib/python3.8/site-packages (from wandb) (0.4.0)\n",
      "Requirement already satisfied: python-dateutil>=2.6.1 in /home/ingambe/miniconda3/lib/python3.8/site-packages (from wandb) (2.8.1)\n",
      "Requirement already satisfied: GitPython>=1.0.0 in /home/ingambe/miniconda3/lib/python3.8/site-packages (from wandb) (3.1.17)\n",
      "Requirement already satisfied: requests<3,>=2.0.0 in /home/ingambe/miniconda3/lib/python3.8/site-packages (from wandb) (2.24.0)\n",
      "Requirement already satisfied: pathtools in /home/ingambe/miniconda3/lib/python3.8/site-packages (from wandb) (0.1.2)\n",
      "Requirement already satisfied: protobuf>=3.12.0 in /home/ingambe/miniconda3/lib/python3.8/site-packages (from wandb) (3.18.0)\n",
      "Requirement already satisfied: yaspin>=1.0.0 in /home/ingambe/miniconda3/lib/python3.8/site-packages (from wandb) (2.1.0)\n",
      "Requirement already satisfied: Click!=8.0.0,>=7.0 in /home/ingambe/miniconda3/lib/python3.8/site-packages (from wandb) (8.0.1)\n",
      "Requirement already satisfied: shortuuid>=0.5.0 in /home/ingambe/miniconda3/lib/python3.8/site-packages (from wandb) (1.0.1)\n",
      "Requirement already satisfied: certifi in /home/ingambe/miniconda3/lib/python3.8/site-packages (from sentry-sdk>=1.0.0->wandb) (2021.10.8)\n",
      "Requirement already satisfied: urllib3>=1.10.0 in /home/ingambe/miniconda3/lib/python3.8/site-packages (from sentry-sdk>=1.0.0->wandb) (1.25.11)\n",
      "Requirement already satisfied: gitdb<5,>=4.0.1 in /home/ingambe/miniconda3/lib/python3.8/site-packages (from GitPython>=1.0.0->wandb) (4.0.7)\n",
      "Requirement already satisfied: idna<3,>=2.5 in /home/ingambe/miniconda3/lib/python3.8/site-packages (from requests<3,>=2.0.0->wandb) (2.10)\n",
      "Requirement already satisfied: chardet<4,>=3.0.2 in /home/ingambe/miniconda3/lib/python3.8/site-packages (from requests<3,>=2.0.0->wandb) (3.0.4)\n",
      "Requirement already satisfied: termcolor<2.0.0,>=1.1.0 in /home/ingambe/miniconda3/lib/python3.8/site-packages (from yaspin>=1.0.0->wandb) (1.1.0)\n",
      "Requirement already satisfied: smmap<5,>=3.0.1 in /home/ingambe/miniconda3/lib/python3.8/site-packages (from gitdb<5,>=4.0.1->GitPython>=1.0.0->wandb) (4.0.0)\n"
     ]
    }
   ],
   "source": [
    "!pip install wandb"
   ]
  },
  {
   "cell_type": "markdown",
   "id": "a865277a",
   "metadata": {
    "slideshow": {
     "slide_type": "slide"
    }
   },
   "source": [
    "WandB allows you to **create project** and logs metrics for **each run**"
   ]
  },
  {
   "cell_type": "markdown",
   "id": "53d39e2c",
   "metadata": {},
   "source": [
    "Example: https://wandb.ai/ingambe/es-jss?workspace=user-ingambe"
   ]
  },
  {
   "cell_type": "markdown",
   "id": "22bb8350",
   "metadata": {
    "slideshow": {
     "slide_type": "slide"
    }
   },
   "source": [
    "To use it and track experiments"
   ]
  },
  {
   "cell_type": "code",
   "execution_count": 2,
   "id": "0d5c8073",
   "metadata": {},
   "outputs": [
    {
     "name": "stderr",
     "output_type": "stream",
     "text": [
      "\u001b[34m\u001b[1mwandb\u001b[0m: Currently logged in as: \u001b[33mingambe\u001b[0m (use `wandb login --relogin` to force relogin)\n",
      "\u001b[34m\u001b[1mwandb\u001b[0m: wandb version 0.12.6 is available!  To upgrade, please run:\n",
      "\u001b[34m\u001b[1mwandb\u001b[0m:  $ pip install wandb --upgrade\n"
     ]
    },
    {
     "data": {
      "text/html": [
       "\n",
       "                Tracking run with wandb version 0.12.2<br/>\n",
       "                Syncing run <strong style=\"color:#cdcd00\">dandy-jazz-8</strong> to <a href=\"https://wandb.ai\" target=\"_blank\">Weights & Biases</a> <a href=\"https://docs.wandb.com/integrations/jupyter.html\" target=\"_blank\">(Documentation)</a>.<br/>\n",
       "                Project page: <a href=\"https://wandb.ai/ingambe/course\" target=\"_blank\">https://wandb.ai/ingambe/course</a><br/>\n",
       "                Run page: <a href=\"https://wandb.ai/ingambe/course/runs/1036oyxm\" target=\"_blank\">https://wandb.ai/ingambe/course/runs/1036oyxm</a><br/>\n",
       "                Run data is saved locally in <code>/home/ingambe/DeepLearningCourse/2-Linear-networks/Slides/wandb/run-20211115_125641-1036oyxm</code><br/><br/>\n",
       "            "
      ],
      "text/plain": [
       "<IPython.core.display.HTML object>"
      ]
     },
     "metadata": {},
     "output_type": "display_data"
    },
    {
     "data": {
      "text/html": [
       "<h1>Run(1036oyxm)</h1><iframe src=\"https://wandb.ai/ingambe/course/runs/1036oyxm\" style=\"border:none;width:100%;height:400px\"></iframe>"
      ],
      "text/plain": [
       "<wandb.sdk.wandb_run.Run at 0x7fd005669940>"
      ]
     },
     "execution_count": 2,
     "metadata": {},
     "output_type": "execute_result"
    }
   ],
   "source": [
    "import wandb\n",
    "wandb.init(project='course') # specify the project of the current run"
   ]
  },
  {
   "cell_type": "markdown",
   "id": "8f344d2c",
   "metadata": {
    "slideshow": {
     "slide_type": "slide"
    }
   },
   "source": [
    "For the first run, it will ask for your API key, you can found it in your profile's settings"
   ]
  },
  {
   "cell_type": "markdown",
   "id": "d1e3138e",
   "metadata": {},
   "source": [
    "<center>\n",
    "    <img src='images/settings.png' />\n",
    "</center>"
   ]
  },
  {
   "cell_type": "markdown",
   "id": "d0e0e937",
   "metadata": {
    "slideshow": {
     "slide_type": "slide"
    }
   },
   "source": [
    "Loggin information is very simple"
   ]
  },
  {
   "cell_type": "code",
   "execution_count": 3,
   "id": "dc25aeea",
   "metadata": {},
   "outputs": [],
   "source": [
    "wandb.log({'current_performance': 15})"
   ]
  },
  {
   "cell_type": "markdown",
   "id": "a25778ab",
   "metadata": {
    "slideshow": {
     "slide_type": "slide"
    }
   },
   "source": [
    "If you have a training loop, you can define your own step"
   ]
  },
  {
   "cell_type": "code",
   "execution_count": 4,
   "id": "b3eccd11",
   "metadata": {},
   "outputs": [],
   "source": [
    "import random\n",
    "for i in range(10):\n",
    "    wandb.log({'value_a': random.randint(0, 10)}, step=i + 1) # +1 here because step 0 was the previous log call\n",
    "    wandb.log({'value_b': random.randint(0, 5)}, step=i + 1)"
   ]
  },
  {
   "cell_type": "markdown",
   "id": "6a815049",
   "metadata": {
    "slideshow": {
     "slide_type": "slide"
    }
   },
   "source": [
    "If you have a lot of different type of log, you can make categories"
   ]
  },
  {
   "cell_type": "code",
   "execution_count": 5,
   "id": "1adbce67",
   "metadata": {},
   "outputs": [],
   "source": [
    "wandb.log({'my_category/my_log': 1.4})"
   ]
  },
  {
   "cell_type": "markdown",
   "id": "ec77ffab",
   "metadata": {
    "slideshow": {
     "slide_type": "slide"
    }
   },
   "source": [
    "You can log everything, from Table, to Plot, even Musics or Video"
   ]
  },
  {
   "cell_type": "markdown",
   "id": "166fc47e",
   "metadata": {
    "slideshow": {
     "slide_type": "-"
    }
   },
   "source": [
    "WandB natively integrate with PyTorch, but we will discuss this later ..."
   ]
  },
  {
   "cell_type": "markdown",
   "id": "02fc20bc",
   "metadata": {
    "slideshow": {
     "slide_type": "-"
    }
   },
   "source": [
    "WandB also allows you to search for the best hyper parameters\n",
    "\n",
    "This advance functionnality will be discussed when needed..."
   ]
  }
 ],
 "metadata": {
  "celltoolbar": "Slideshow",
  "kernelspec": {
   "display_name": "Python 3",
   "language": "python",
   "name": "python3"
  },
  "language_info": {
   "codemirror_mode": {
    "name": "ipython",
    "version": 3
   },
   "file_extension": ".py",
   "mimetype": "text/x-python",
   "name": "python",
   "nbconvert_exporter": "python",
   "pygments_lexer": "ipython3",
   "version": "3.8.5"
  }
 },
 "nbformat": 4,
 "nbformat_minor": 5
}
