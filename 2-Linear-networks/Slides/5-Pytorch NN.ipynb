{
 "cells": [
  {
   "cell_type": "markdown",
   "id": "d28b98ef",
   "metadata": {},
   "source": [
    "## Pytorch NN API\n",
    "\n",
    "Pytorch already includes everything we need to train a linear model in less than 10 lines of code!"
   ]
  },
  {
   "cell_type": "code",
   "execution_count": 38,
   "id": "885a3bc9",
   "metadata": {
    "slideshow": {
     "slide_type": "skip"
    }
   },
   "outputs": [],
   "source": [
    "%matplotlib inline\n",
    "import random\n",
    "import torch\n",
    "from torch.utils import data"
   ]
  },
  {
   "cell_type": "code",
   "execution_count": 39,
   "id": "c086c7ea",
   "metadata": {
    "slideshow": {
     "slide_type": "slide"
    }
   },
   "outputs": [
    {
     "data": {
      "text/html": [
       "Finishing last run (ID:1f32kuso) before initializing another..."
      ],
      "text/plain": [
       "<IPython.core.display.HTML object>"
      ]
     },
     "metadata": {},
     "output_type": "display_data"
    },
    {
     "data": {
      "text/html": [
       "<br/>Waiting for W&B process to finish, PID 359392<br/>Program ended successfully."
      ],
      "text/plain": [
       "<IPython.core.display.HTML object>"
      ]
     },
     "metadata": {},
     "output_type": "display_data"
    },
    {
     "data": {
      "application/vnd.jupyter.widget-view+json": {
       "model_id": "",
       "version_major": 2,
       "version_minor": 0
      },
      "text/plain": [
       "VBox(children=(Label(value=' 0.27MB of 0.27MB uploaded (0.00MB deduped)\\r'), FloatProgress(value=1.0, max=1.0)…"
      ]
     },
     "metadata": {},
     "output_type": "display_data"
    },
    {
     "data": {
      "text/html": [
       "Find user logs for this run at: <code>/home/ingambe/DeepLearningCourse/2-Linear-networks/Slides/wandb/run-20211007_115654-1f32kuso/logs/debug.log</code>"
      ],
      "text/plain": [
       "<IPython.core.display.HTML object>"
      ]
     },
     "metadata": {},
     "output_type": "display_data"
    },
    {
     "data": {
      "text/html": [
       "Find internal logs for this run at: <code>/home/ingambe/DeepLearningCourse/2-Linear-networks/Slides/wandb/run-20211007_115654-1f32kuso/logs/debug-internal.log</code>"
      ],
      "text/plain": [
       "<IPython.core.display.HTML object>"
      ]
     },
     "metadata": {},
     "output_type": "display_data"
    },
    {
     "data": {
      "text/html": [
       "<h3>Run summary:</h3><br/><style>\n",
       "    table.wandb td:nth-child(1) { padding: 0 10px; text-align: right }\n",
       "    </style><table class=\"wandb\">\n",
       "<tr><td>loss</td><td>0.00011</td></tr></table>"
      ],
      "text/plain": [
       "<IPython.core.display.HTML object>"
      ]
     },
     "metadata": {},
     "output_type": "display_data"
    },
    {
     "data": {
      "text/html": [
       "<h3>Run history:</h3><br/><style>\n",
       "    table.wandb td:nth-child(1) { padding: 0 10px; text-align: right }\n",
       "    </style><table class=\"wandb\">\n",
       "<tr><td>loss</td><td>█▁▁▁▁▁▁▁▁▁</td></tr></table><br/>"
      ],
      "text/plain": [
       "<IPython.core.display.HTML object>"
      ]
     },
     "metadata": {},
     "output_type": "display_data"
    },
    {
     "data": {
      "text/html": [
       "Synced 7 W&B file(s), 1 media file(s), 0 artifact file(s) and 0 other file(s)"
      ],
      "text/plain": [
       "<IPython.core.display.HTML object>"
      ]
     },
     "metadata": {},
     "output_type": "display_data"
    },
    {
     "data": {
      "text/html": [
       "\n",
       "                    <br/>Synced <strong style=\"color:#cdcd00\">playful-water-6</strong>: <a href=\"https://wandb.ai/ingambe/course/runs/1f32kuso\" target=\"_blank\">https://wandb.ai/ingambe/course/runs/1f32kuso</a><br/>\n",
       "                "
      ],
      "text/plain": [
       "<IPython.core.display.HTML object>"
      ]
     },
     "metadata": {},
     "output_type": "display_data"
    },
    {
     "data": {
      "text/html": [
       "...Successfully finished last run (ID:1f32kuso). Initializing new run:<br/><br/>"
      ],
      "text/plain": [
       "<IPython.core.display.HTML object>"
      ]
     },
     "metadata": {},
     "output_type": "display_data"
    },
    {
     "name": "stderr",
     "output_type": "stream",
     "text": [
      "\u001b[34m\u001b[1mwandb\u001b[0m: wandb version 0.12.4 is available!  To upgrade, please run:\n",
      "\u001b[34m\u001b[1mwandb\u001b[0m:  $ pip install wandb --upgrade\n"
     ]
    },
    {
     "data": {
      "text/html": [
       "\n",
       "                Tracking run with wandb version 0.12.2<br/>\n",
       "                Syncing run <strong style=\"color:#cdcd00\">brisk-disco-7</strong> to <a href=\"https://wandb.ai\" target=\"_blank\">Weights & Biases</a> <a href=\"https://docs.wandb.com/integrations/jupyter.html\" target=\"_blank\">(Documentation)</a>.<br/>\n",
       "                Project page: <a href=\"https://wandb.ai/ingambe/course\" target=\"_blank\">https://wandb.ai/ingambe/course</a><br/>\n",
       "                Run page: <a href=\"https://wandb.ai/ingambe/course/runs/1qas4rxj\" target=\"_blank\">https://wandb.ai/ingambe/course/runs/1qas4rxj</a><br/>\n",
       "                Run data is saved locally in <code>/home/ingambe/DeepLearningCourse/2-Linear-networks/Slides/wandb/run-20211007_120206-1qas4rxj</code><br/><br/>\n",
       "            "
      ],
      "text/plain": [
       "<IPython.core.display.HTML object>"
      ]
     },
     "metadata": {},
     "output_type": "display_data"
    },
    {
     "data": {
      "text/html": [
       "<h1>Run(1qas4rxj)</h1><iframe src=\"https://wandb.ai/ingambe/course/runs/1qas4rxj\" style=\"border:none;width:100%;height:400px\"></iframe>"
      ],
      "text/plain": [
       "<wandb.sdk.wandb_run.Run at 0x7f74b4379400>"
      ]
     },
     "execution_count": 39,
     "metadata": {},
     "output_type": "execute_result"
    }
   ],
   "source": [
    "import wandb\n",
    "wandb.init(project='course') # specify the project of the current run"
   ]
  },
  {
   "cell_type": "code",
   "execution_count": 40,
   "id": "630a6827",
   "metadata": {
    "slideshow": {
     "slide_type": "slide"
    }
   },
   "outputs": [],
   "source": [
    "true_w = torch.tensor([2, -3.4, 5, 6])\n",
    "true_b = 2.4\n",
    "features, labels = d2l.synthetic_data(true_w, true_b, 2000)"
   ]
  },
  {
   "cell_type": "code",
   "execution_count": 41,
   "id": "ee15a747",
   "metadata": {
    "slideshow": {
     "slide_type": "-"
    }
   },
   "outputs": [],
   "source": [
    "def load_array(data_arrays, batch_size, is_train=True):\n",
    "    dataset = data.TensorDataset(*data_arrays)\n",
    "    return data.DataLoader(dataset, batch_size, shuffle=is_train)\n",
    "\n",
    "batch_size = 32\n",
    "data_iter = load_array((features, labels), batch_size)"
   ]
  },
  {
   "cell_type": "markdown",
   "id": "1d5eb666",
   "metadata": {
    "slideshow": {
     "slide_type": "-"
    }
   },
   "source": [
    "We can now iterate over minibtaches"
   ]
  },
  {
   "cell_type": "code",
   "execution_count": 42,
   "id": "cb5d27e4",
   "metadata": {},
   "outputs": [
    {
     "data": {
      "text/plain": [
       "[tensor([[-0.0640, -0.2316, -1.2105,  0.9683],\n",
       "         [ 1.8652, -1.8456, -1.9314, -0.2312],\n",
       "         [-0.0371, -0.0543,  0.1250,  0.2585],\n",
       "         [-0.0350, -1.5470, -0.3883,  1.2420],\n",
       "         [ 0.0153, -1.5883,  1.8455, -0.1559],\n",
       "         [-0.3330,  0.7168,  0.5310, -1.2649],\n",
       "         [-0.0598,  0.0857, -1.0091, -0.3167],\n",
       "         [-0.2225, -2.4045, -0.0463,  0.9433],\n",
       "         [-0.0097, -0.2337, -2.0868,  1.9189],\n",
       "         [ 0.0206, -0.7214,  0.7721, -1.3963],\n",
       "         [-0.9205,  0.4979,  0.1712,  1.2140],\n",
       "         [-0.6815,  0.5228,  0.4854, -0.9511],\n",
       "         [ 1.1157,  0.2512, -1.3068,  0.9776],\n",
       "         [ 1.7138, -1.3419, -0.2314, -0.3407],\n",
       "         [ 0.0968,  1.1998, -1.5614,  0.5343],\n",
       "         [ 0.6568,  0.7586,  0.5009, -1.3630],\n",
       "         [ 0.3926, -1.0404,  0.1030,  0.7874],\n",
       "         [-1.4439, -1.0687, -0.1903, -0.2318],\n",
       "         [-0.1183,  0.4089,  1.0589,  2.3383],\n",
       "         [ 0.2871,  0.4902, -0.3545,  1.7691],\n",
       "         [ 0.1175, -1.5368, -1.4214, -1.8138],\n",
       "         [-0.9456,  0.2834,  1.9641, -0.4665],\n",
       "         [-1.5835, -0.3024,  1.1391, -0.3814],\n",
       "         [-0.2189, -0.0516, -1.6691,  1.9324],\n",
       "         [-1.2171,  0.3112, -0.5189, -1.0060],\n",
       "         [-1.0702,  0.0724, -0.1300, -0.1416],\n",
       "         [ 0.5227,  0.9819, -0.0253,  2.1723],\n",
       "         [-0.6772,  0.5207,  0.1954, -1.0627],\n",
       "         [-1.4604,  1.7183,  0.1213, -1.5894],\n",
       "         [ 0.6590, -1.0729, -0.1717, -1.3364],\n",
       "         [-0.7280,  1.6905, -1.8301,  0.6473],\n",
       "         [ 0.4352,  0.7777,  0.5879,  0.8293]]),\n",
       " tensor([[  2.8213],\n",
       "         [  1.3793],\n",
       "         [  4.6884],\n",
       "         [ 13.1075],\n",
       "         [ 16.1261],\n",
       "         [ -5.6388],\n",
       "         [ -4.9621],\n",
       "         [ 15.5625],\n",
       "         [  4.2468],\n",
       "         [  0.3694],\n",
       "         [  6.9906],\n",
       "         [ -4.0163],\n",
       "         [  3.1001],\n",
       "         [  7.1772],\n",
       "         [ -6.0796],\n",
       "         [ -4.5422],\n",
       "         [ 11.9536],\n",
       "         [  0.8000],\n",
       "         [ 20.0859],\n",
       "         [ 10.1441],\n",
       "         [-10.1335],\n",
       "         [  6.5510],\n",
       "         [  3.6619],\n",
       "         [  5.3969],\n",
       "         [ -9.7094],\n",
       "         [ -1.4956],\n",
       "         [ 13.0076],\n",
       "         [ -6.1200],\n",
       "         [-15.3062],\n",
       "         [ -1.5240],\n",
       "         [-10.0812],\n",
       "         [  8.5383]])]"
      ]
     },
     "execution_count": 42,
     "metadata": {},
     "output_type": "execute_result"
    }
   ],
   "source": [
    "next(iter(data_iter))"
   ]
  },
  {
   "cell_type": "markdown",
   "id": "2b571b09",
   "metadata": {
    "slideshow": {
     "slide_type": "slide"
    }
   },
   "source": [
    "For standard operations, we can **use a framework's predefined layers,**\n",
    "which allow us to focus on the layers used to construct the model\n",
    "rather than having to focus on the implementation.\n",
    "\n",
    "The `Sequential` class defines a container\n",
    "for several layers that will be chained together.\n",
    "Given input data, a `Sequential` instance passes it through\n",
    "the first layer, in turn passing the output\n",
    "as the second layer's input and so forth.\n",
    "\n",
    "The layer is said to be *fully-connected*\n",
    "because each of its inputs is connected to each of its outputs\n",
    "by means of a matrix-vector multiplication."
   ]
  },
  {
   "cell_type": "code",
   "execution_count": 43,
   "id": "48343d99",
   "metadata": {},
   "outputs": [],
   "source": [
    "# `nn` is an abbreviation for neural networks\n",
    "from torch import nn\n",
    "\n",
    "net = nn.Sequential(nn.Linear(4, 1))"
   ]
  },
  {
   "cell_type": "markdown",
   "id": "46f23d59",
   "metadata": {
    "slideshow": {
     "slide_type": "slide"
    }
   },
   "source": [
    "We need to initialize the model parameters. By default Pytorch initialize the weight using an uniform distribution considering the size of the layer.\n",
    "\n",
    "You should **always** initialize your layer\n",
    "\n",
    "<center><img src=\"images/weights init.jpeg\" /></center>"
   ]
  },
  {
   "cell_type": "markdown",
   "id": "4439d9f2",
   "metadata": {
    "slideshow": {
     "slide_type": "slide"
    }
   },
   "source": [
    "Gradient descent doesn't move you far away from the initial starting point\n",
    "\n",
    "The literature is full of different weight initialization techniques\n",
    "\n",
    "You can write yours:"
   ]
  },
  {
   "cell_type": "code",
   "execution_count": 44,
   "id": "b30bb9dc",
   "metadata": {},
   "outputs": [
    {
     "data": {
      "text/plain": [
       "tensor([[ 0.0061, -0.0089, -0.0068, -0.0102]])"
      ]
     },
     "execution_count": 44,
     "metadata": {},
     "output_type": "execute_result"
    }
   ],
   "source": [
    "net[0].weight.data.normal_(0, 0.01) # net[0] is the first layer\n",
    "net[0].bias.data.fill_(0)\n",
    "net[0].weight.data"
   ]
  },
  {
   "cell_type": "markdown",
   "id": "b08ca6db",
   "metadata": {},
   "source": [
    "99.9999% of the time you will use one from the literature: [See Pytorch init doc](https://pytorch.org/docs/stable/nn.init.html)\n",
    "\n",
    "I recommend **Xavier normal**. It usually works well.\n",
    "If you have time/ressource, you can try different init and pick the best ;)"
   ]
  },
  {
   "cell_type": "code",
   "execution_count": 45,
   "id": "605492ef",
   "metadata": {},
   "outputs": [
    {
     "data": {
      "text/plain": [
       "tensor([[ 0.4055, -0.5919, -0.6559,  0.7726]])"
      ]
     },
     "execution_count": 45,
     "metadata": {},
     "output_type": "execute_result"
    }
   ],
   "source": [
    "def _weights_init(m):\n",
    "    if isinstance(m, nn.Linear):\n",
    "        torch.nn.init.xavier_normal_(m.weight)\n",
    "        m.bias.data.zero_()\n",
    "        \n",
    "net.apply(_weights_init)\n",
    "net[0].weight.data"
   ]
  },
  {
   "cell_type": "code",
   "execution_count": 46,
   "id": "a47fbb47",
   "metadata": {},
   "outputs": [
    {
     "data": {
      "text/plain": [
       "tensor([0.])"
      ]
     },
     "execution_count": 46,
     "metadata": {},
     "output_type": "execute_result"
    }
   ],
   "source": [
    "net[0].bias.data"
   ]
  },
  {
   "cell_type": "markdown",
   "id": "ffaa0622",
   "metadata": {
    "slideshow": {
     "slide_type": "slide"
    }
   },
   "source": [
    "Then we need to define the loss function we will use  \n",
    "The `MSELoss` class computes the mean squared error, also known as squared $L_2$ norm  \n",
    "By default, it returns the average loss over examples."
   ]
  },
  {
   "cell_type": "code",
   "execution_count": 47,
   "id": "6f2d84ff",
   "metadata": {},
   "outputs": [],
   "source": [
    "loss = nn.MSELoss()"
   ]
  },
  {
   "cell_type": "markdown",
   "id": "90f195d6",
   "metadata": {
    "slideshow": {
     "slide_type": "slide"
    }
   },
   "source": [
    "Weights and Biases can kee an eye on your model, login the structure and the gradient"
   ]
  },
  {
   "cell_type": "code",
   "execution_count": 48,
   "id": "ae50a6be",
   "metadata": {},
   "outputs": [
    {
     "name": "stderr",
     "output_type": "stream",
     "text": [
      "\u001b[34m\u001b[1mwandb\u001b[0m: logging graph, to disable use `wandb.watch(log_graph=False)`\n"
     ]
    },
    {
     "data": {
      "text/plain": [
       "[<wandb.wandb_torch.TorchGraph at 0x7f74b53b66d0>]"
      ]
     },
     "execution_count": 48,
     "metadata": {},
     "output_type": "execute_result"
    }
   ],
   "source": [
    "wandb.watch(net, log=\"all\", criterion=loss, log_freq=1,  log_graph=(True)) #log frequency depend on your training"
   ]
  },
  {
   "cell_type": "markdown",
   "id": "d32d40a4",
   "metadata": {
    "slideshow": {
     "slide_type": "slide"
    }
   },
   "source": [
    "Last piece of the puzzle, we need to define the optimizer  \n",
    "When we (**instantiate an `SGD` instance,**) we will specify the parameters to optimize over (obtainable from our net via `net.parameters()`), with a dictionary of hyperparameters required by our optimization algorithm  \n",
    "Minibatch stochastic gradient descent just requires that we set the value `lr`, which is set to 0.03 here."
   ]
  },
  {
   "cell_type": "code",
   "execution_count": 49,
   "id": "02ec64dd",
   "metadata": {},
   "outputs": [],
   "source": [
    "optim = torch.optim.SGD(net.parameters(), lr=3e-2)"
   ]
  },
  {
   "cell_type": "code",
   "execution_count": 50,
   "id": "4217580f",
   "metadata": {},
   "outputs": [
    {
     "data": {
      "text/plain": [
       "Parameter containing:\n",
       "tensor([[ 0.4055, -0.5919, -0.6559,  0.7726]], requires_grad=True)"
      ]
     },
     "execution_count": 50,
     "metadata": {},
     "output_type": "execute_result"
    }
   ],
   "source": [
    "next(net.parameters())"
   ]
  },
  {
   "cell_type": "markdown",
   "id": "ddc550c0",
   "metadata": {
    "slideshow": {
     "slide_type": "slide"
    }
   },
   "source": [
    "Let's put everything together !\n",
    "\n",
    "The training loop itself is strikingly similar to what we did when implementing everything from scratch.\n",
    "\n",
    "For each minibatch, we go through the following ritual:\n",
    "\n",
    "* Generate predictions by calling `net(X)` and calculate the loss `l` (the forward propagation).\n",
    "* Calculate gradients by running the backpropagation.\n",
    "* Update the model parameters by invoking our optimizer.\n",
    "\n",
    "For good measure, we compute the loss after each epoch and print it to monitor progress."
   ]
  },
  {
   "cell_type": "code",
   "execution_count": 51,
   "id": "a8520988",
   "metadata": {},
   "outputs": [
    {
     "name": "stdout",
     "output_type": "stream",
     "text": [
      "epoch 1, loss 0.03365461900830269\n",
      "epoch 2, loss 0.0001134258127422072\n",
      "epoch 3, loss 9.443417366128415e-05\n",
      "epoch 4, loss 9.44119892665185e-05\n",
      "epoch 5, loss 9.463050810154527e-05\n",
      "epoch 6, loss 9.446484909858555e-05\n",
      "epoch 7, loss 9.538613085169345e-05\n",
      "epoch 8, loss 9.477791900280863e-05\n",
      "epoch 9, loss 9.447835327591747e-05\n",
      "epoch 10, loss 9.47222433751449e-05\n"
     ]
    }
   ],
   "source": [
    "num_epochs = 10\n",
    "for epoch in range(num_epochs):\n",
    "    for X, y in data_iter:\n",
    "        l = loss(net(X), y)\n",
    "        optim.zero_grad() # please don't forget!\n",
    "        l.backward() # remember: You need to tell wrt to what the gradient is computed\n",
    "        optim.step() # do a step in the gradient direction\n",
    "    with torch.no_grad():\n",
    "        l = loss(net(features), labels) \n",
    "        print(f'epoch {epoch + 1}, loss {l.item()}')\n",
    "        wandb.log({'loss': l.item()}, step=epoch)"
   ]
  },
  {
   "cell_type": "markdown",
   "id": "1863865c",
   "metadata": {
    "slideshow": {
     "slide_type": "slide"
    }
   },
   "source": [
    "# ⚠️ NEVER FORGET TO ZERO_GRAD THE OPTIMIZER ⚠️"
   ]
  },
  {
   "cell_type": "markdown",
   "id": "53a5b438",
   "metadata": {
    "slideshow": {
     "slide_type": "slide"
    }
   },
   "source": [
    "By default the optimizer accumulate the gradient!\n",
    "\n",
    "If you don't set it back to 0, it will keep previous gradient and sum them!\n",
    "\n",
    "If your model doesn't converge check this first!"
   ]
  },
  {
   "cell_type": "markdown",
   "id": "c8ce8575",
   "metadata": {
    "slideshow": {
     "slide_type": "slide"
    }
   },
   "source": [
    "Now let's compare the true parameters and the learned one:"
   ]
  },
  {
   "cell_type": "code",
   "execution_count": 52,
   "id": "5925519f",
   "metadata": {},
   "outputs": [
    {
     "name": "stdout",
     "output_type": "stream",
     "text": [
      "error in estimating w: tensor([-3.1424e-04, -2.4080e-05, -2.8658e-04,  3.8433e-04])\n",
      "error in estimating b: tensor([0.0006])\n"
     ]
    }
   ],
   "source": [
    "w = net[0].weight.data\n",
    "print('error in estimating w:', true_w - w.reshape(true_w.shape))\n",
    "b = net[0].bias.data\n",
    "print('error in estimating b:', true_b - b)"
   ]
  },
  {
   "cell_type": "markdown",
   "id": "f7f2f62a",
   "metadata": {
    "slideshow": {
     "slide_type": "slide"
    }
   },
   "source": [
    "We can save and load model to reuse them later"
   ]
  },
  {
   "cell_type": "code",
   "execution_count": 53,
   "id": "b444356a",
   "metadata": {},
   "outputs": [
    {
     "data": {
      "text/plain": [
       "OrderedDict([('0.weight', tensor([[ 2.0003, -3.4000,  5.0003,  5.9996]])),\n",
       "             ('0.bias', tensor([2.3994]))])"
      ]
     },
     "execution_count": 53,
     "metadata": {},
     "output_type": "execute_result"
    }
   ],
   "source": [
    "net.state_dict()"
   ]
  },
  {
   "cell_type": "code",
   "execution_count": 54,
   "id": "78f39bd3",
   "metadata": {},
   "outputs": [],
   "source": [
    "torch.save(net.state_dict(), 'my_model.pt')"
   ]
  },
  {
   "cell_type": "markdown",
   "id": "958c04ad",
   "metadata": {
    "slideshow": {
     "slide_type": "slide"
    }
   },
   "source": [
    "This save model's parameters as a dictionnary, but **doesn't save the structure** of the neural network"
   ]
  },
  {
   "cell_type": "code",
   "execution_count": 55,
   "id": "1cc584d8",
   "metadata": {},
   "outputs": [
    {
     "data": {
      "text/plain": [
       "OrderedDict([('0.weight', tensor([[ 2.0003, -3.4000,  5.0003,  5.9996]])),\n",
       "             ('0.bias', tensor([2.3994]))])"
      ]
     },
     "execution_count": 55,
     "metadata": {},
     "output_type": "execute_result"
    }
   ],
   "source": [
    "new_model = nn.Sequential(nn.Linear(4, 1))\n",
    "new_model.load_state_dict(torch.load('my_model.pt'))\n",
    "new_model.state_dict()"
   ]
  },
  {
   "cell_type": "code",
   "execution_count": null,
   "id": "eeef5cbb",
   "metadata": {
    "slideshow": {
     "slide_type": "skip"
    }
   },
   "outputs": [],
   "source": []
  }
 ],
 "metadata": {
  "celltoolbar": "Slideshow",
  "kernelspec": {
   "display_name": "Python 3",
   "language": "python",
   "name": "python3"
  },
  "language_info": {
   "codemirror_mode": {
    "name": "ipython",
    "version": 3
   },
   "file_extension": ".py",
   "mimetype": "text/x-python",
   "name": "python",
   "nbconvert_exporter": "python",
   "pygments_lexer": "ipython3",
   "version": "3.8.5"
  }
 },
 "nbformat": 4,
 "nbformat_minor": 5
}
