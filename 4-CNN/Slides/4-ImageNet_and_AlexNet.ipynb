{
 "cells": [
  {
   "cell_type": "markdown",
   "id": "57a1f1c2",
   "metadata": {
    "slideshow": {
     "slide_type": "-"
    }
   },
   "source": [
    "# ImageNet and AlexNet\n",
    "\n",
    "A turning point in the history of deep learning"
   ]
  },
  {
   "cell_type": "markdown",
   "id": "d098b411",
   "metadata": {
    "slideshow": {
     "slide_type": "slide"
    }
   },
   "source": [
    "*ImageNet* is one of the largest image dataset used as a metric to evaluate state of the art NN architectures  \n",
    "14 million images and 1000 categories. We often report the top 5-accuracy metric"
   ]
  },
  {
   "cell_type": "code",
   "execution_count": 1,
   "id": "ec1c23b6",
   "metadata": {},
   "outputs": [
    {
     "data": {
      "text/plain": [
       "\"\\ntorchvision.datasets.ImageNet(root='./imageNet', split='train', \\n                              transform=torchvision.transforms.Compose([\\n                                  torchvision.transforms.ToTensor(),\\n                                  transforms.Normalize(mean=[0.485, 0.456, 0.406],\\n                                 std=[0.229, 0.224, 0.225])], download=True)\\n\""
      ]
     },
     "execution_count": 1,
     "metadata": {},
     "output_type": "execute_result"
    }
   ],
   "source": [
    "# Don't execute unless you have a good bandwidth and enough hard drive space (150GB)\n",
    "# Update: ImageNet is not available to download from torchvision directly. It needs to be downloaded by hand\n",
    "'''\n",
    "torchvision.datasets.ImageNet(root='./imageNet', split='train', \n",
    "                              transform=torchvision.transforms.Compose([\n",
    "                                  torchvision.transforms.ToTensor(),\n",
    "                                  transforms.Normalize(mean=[0.485, 0.456, 0.406],\n",
    "                                 std=[0.229, 0.224, 0.225])], download=True)\n",
    "'''"
   ]
  },
  {
   "cell_type": "markdown",
   "id": "14028517",
   "metadata": {
    "slideshow": {
     "slide_type": "slide"
    }
   },
   "source": [
    "In 2012, Alex Krizhevsky, Ilya Sutskever and Geoffrey Hinton proposed a CNN architecture and implemented it on Cuda GPUs to compete in the *ImageNet* competition\n",
    "\n",
    "<center>\n",
    "    <img src='images/Comparison_image_neural_networks.png' width=55% style=\"margin-left:auto; margin-right:auto\"/>\n",
    "    <p style=\"font-size:14px;\">Source: <a href='https://en.wikipedia.org/wiki/AlexNet'>Wikipedia</a></p>\n",
    "</center>"
   ]
  },
  {
   "cell_type": "markdown",
   "id": "60e6a604",
   "metadata": {
    "slideshow": {
     "slide_type": "-"
    }
   },
   "source": [
    "TODO: Based on the right end of the diagram, implement the AlexNet architecture"
   ]
  },
  {
   "cell_type": "code",
   "execution_count": 2,
   "id": "94d28683",
   "metadata": {
    "slideshow": {
     "slide_type": "skip"
    }
   },
   "outputs": [],
   "source": [
    "import torch\n",
    "import torch.nn as nn\n",
    "\n",
    "class AlexNet(nn.Module):\n",
    "    \n",
    "    def __init__(self):\n",
    "        super(AlexNet, self).__init__()\n",
    "    \n",
    "    def forward(self, x):\n",
    "        pass"
   ]
  },
  {
   "cell_type": "code",
   "execution_count": 3,
   "id": "282b72f3",
   "metadata": {},
   "outputs": [],
   "source": [
    "net = AlexNet()\n",
    "net(torch.randn(2, 3, 224, 224))"
   ]
  },
  {
   "cell_type": "code",
   "execution_count": null,
   "id": "0f3aafef",
   "metadata": {},
   "outputs": [],
   "source": []
  }
 ],
 "metadata": {
  "celltoolbar": "Slideshow",
  "kernelspec": {
   "display_name": "Python 3 (ipykernel)",
   "language": "python",
   "name": "python3"
  },
  "language_info": {
   "codemirror_mode": {
    "name": "ipython",
    "version": 3
   },
   "file_extension": ".py",
   "mimetype": "text/x-python",
   "name": "python",
   "nbconvert_exporter": "python",
   "pygments_lexer": "ipython3",
   "version": "3.9.7"
  }
 },
 "nbformat": 4,
 "nbformat_minor": 5
}
