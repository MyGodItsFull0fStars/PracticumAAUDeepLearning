{
 "cells": [
  {
   "cell_type": "markdown",
   "id": "987718c0",
   "metadata": {
    "slideshow": {
     "slide_type": "-"
    }
   },
   "source": [
    "# Limits of MLP for image recognition\n",
    "\n",
    "Neural network architecture can leverage domain's specificities"
   ]
  },
  {
   "cell_type": "markdown",
   "id": "82949faf",
   "metadata": {
    "slideshow": {
     "slide_type": "slide"
    }
   },
   "source": [
    "MLP takes a 1D vector as an input. Images are 2D if greyscale, 3D if color.  \n",
    "The color dimension is called the *channel*.\n",
    "\n",
    "By *flattening* the image, we don't lose information, but we lose meta-information."
   ]
  },
  {
   "cell_type": "code",
   "execution_count": 1,
   "id": "184dccad",
   "metadata": {
    "slideshow": {
     "slide_type": "skip"
    }
   },
   "outputs": [
    {
     "name": "stdout",
     "output_type": "stream",
     "text": [
      "Using downloaded and verified file: ./MNIST/raw/train-images-idx3-ubyte.gz\n",
      "Extracting ./MNIST/raw/train-images-idx3-ubyte.gz\n",
      "Using downloaded and verified file: ./MNIST/raw/train-labels-idx1-ubyte.gz\n",
      "Extracting ./MNIST/raw/train-labels-idx1-ubyte.gz\n",
      "Using downloaded and verified file: ./MNIST/raw/t10k-images-idx3-ubyte.gz\n",
      "Extracting ./MNIST/raw/t10k-images-idx3-ubyte.gz\n",
      "Using downloaded and verified file: ./MNIST/raw/t10k-labels-idx1-ubyte.gz\n",
      "Extracting ./MNIST/raw/t10k-labels-idx1-ubyte.gz\n",
      "Processing...\n",
      "Done!\n"
     ]
    },
    {
     "name": "stderr",
     "output_type": "stream",
     "text": [
      "/Users/ingambe/miniforge3/envs/deep-learning/lib/python3.9/site-packages/torchvision/datasets/mnist.py:335: UserWarning: The given NumPy array is not writeable, and PyTorch does not support non-writeable tensors. This means you can write to the underlying (supposedly non-writeable) NumPy array using the tensor. You may want to copy the array to protect its data or make it writeable before converting it to a tensor. This type of warning will be suppressed for the rest of this program. (Triggered internally at  /Users/runner/miniforge3/conda-bld/pytorch-recipe_1635217266490/work/torch/csrc/utils/tensor_numpy.cpp:189.)\n",
      "  return torch.from_numpy(parsed).view(length, num_rows, num_cols)\n"
     ]
    }
   ],
   "source": [
    "%matplotlib inline\n",
    "import matplotlib\n",
    "import matplotlib.pyplot as plt\n",
    "import torch\n",
    "import torchvision\n",
    "mnist_dataset = torchvision.datasets.MNIST('./', download=True,\n",
    "                                           transform=torchvision.transforms.Compose([\n",
    "                                               torchvision.transforms.ToTensor(),\n",
    "                                               torchvision.transforms.Normalize(\n",
    "                                                 (0.1307,), (0.3081,))\n",
    "                                             ]))\n",
    "train_loader = torch.utils.data.DataLoader(dataset=mnist_dataset,\n",
    "                                           batch_size=1, shuffle=False)\n",
    "data, _ = iter(train_loader).next()\n",
    "one_example = data[0]\n",
    "matplotlib.rcParams['figure.figsize'] = [500, 500]"
   ]
  },
  {
   "cell_type": "code",
   "execution_count": 2,
   "id": "70c53350",
   "metadata": {
    "slideshow": {
     "slide_type": "slide"
    }
   },
   "outputs": [
    {
     "data": {
      "text/plain": [
       "<matplotlib.image.AxesImage at 0x138327d90>"
      ]
     },
     "execution_count": 2,
     "metadata": {},
     "output_type": "execute_result"
    },
    {
     "data": {
      "image/png": "[encoded data removed]",
      "text/plain": [
       "<Figure size 432x288 with 1 Axes>"
      ]
     },
     "metadata": {
      "needs_background": "light"
     },
     "output_type": "display_data"
    }
   ],
   "source": [
    "%matplotlib inline\n",
    "plt.imshow(one_example.permute(1, 2, 0))"
   ]
  },
  {
   "cell_type": "code",
   "execution_count": 3,
   "id": "ec153d0b",
   "metadata": {
    "slideshow": {
     "slide_type": "slide"
    }
   },
   "outputs": [
    {
     "data": {
      "text/plain": [
       "<matplotlib.image.AxesImage at 0x13842db50>"
      ]
     },
     "execution_count": 3,
     "metadata": {},
     "output_type": "execute_result"
    },
    {
     "data": {
      "image/png": "[encoded data removed]",
      "text/plain": [
       "<Figure size 7200x72 with 1 Axes>"
      ]
     },
     "metadata": {
      "needs_background": "light"
     },
     "output_type": "display_data"
    }
   ],
   "source": [
    "%matplotlib inline\n",
    "matplotlib.rcParams['figure.figsize'] = [100, 1]\n",
    "plt.imshow(one_example.view(1, 1, -1).permute(1, 2, 0), aspect='auto')"
   ]
  },
  {
   "cell_type": "markdown",
   "id": "2a38bfc9",
   "metadata": {},
   "source": [
    "Pixels that should be close from one to another are very far apart\n",
    "\n",
    "We can't recognize the number"
   ]
  },
  {
   "cell_type": "markdown",
   "id": "3272e107",
   "metadata": {
    "slideshow": {
     "slide_type": "slide"
    }
   },
   "source": [
    "Images are natural signals which have 3 properties:\n",
    "\n",
    "* **Stationarity**: Certain motifs are repeated throughout the input.\n",
    "* **Locality**: Nearby points are correlated. Meaning the information is **sparse**.\n",
    "* **Compositionality**: Parts are composed of sub-parts. A deep neural network can decompose layer after layer the information. \n",
    "\n",
    "One huge drawback of MLP is that they are not translation *invariant*. If the images are always centered in the training set, the MLP will only focus on central pixels."
   ]
  }
 ],
 "metadata": {
  "celltoolbar": "Slideshow",
  "kernelspec": {
   "display_name": "Python 3 (ipykernel)",
   "language": "python",
   "name": "python3"
  },
  "language_info": {
   "codemirror_mode": {
    "name": "ipython",
    "version": 3
   },
   "file_extension": ".py",
   "mimetype": "text/x-python",
   "name": "python",
   "nbconvert_exporter": "python",
   "pygments_lexer": "ipython3",
   "version": "3.9.7"
  }
 },
 "nbformat": 4,
 "nbformat_minor": 5
}
