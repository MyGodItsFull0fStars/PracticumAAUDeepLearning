{
 "cells": [
  {
   "cell_type": "markdown",
   "id": "48f36467",
   "metadata": {},
   "source": [
    "# Introduction"
   ]
  },
  {
   "cell_type": "markdown",
   "id": "2953dfe5",
   "metadata": {},
   "source": [
    "Deep Learning at AAU"
   ]
  },
  {
   "cell_type": "markdown",
   "id": "abc282f9",
   "metadata": {
    "slideshow": {
     "slide_type": "slide"
    }
   },
   "source": [
    "## Important information"
   ]
  },
  {
   "cell_type": "markdown",
   "id": "f3cb8c81",
   "metadata": {},
   "source": [
    "* This class is **practice oriented**\n",
    "* The theory will still be discussed\n",
    "* Full comprehension of the theory is not the goal (**unachievable**)\n",
    "* I want you to have an **intuition** about neural networks\n",
    "* This class is a support for the more theory-oriented class from Pr. Schekotihin"
   ]
  },
  {
   "cell_type": "markdown",
   "id": "d79d19df",
   "metadata": {
    "slideshow": {
     "slide_type": "slide"
    }
   },
   "source": [
    "## Important information"
   ]
  },
  {
   "cell_type": "markdown",
   "id": "87259ead",
   "metadata": {},
   "source": [
    "* Python 3\n",
    "* Linear Algebra. If you need a refresher: I recommend [3Blue1Brown series of video on Youtube](https://www.youtube.com/playlist?list=PLZHQObOWTQDPD3MizzM2xVFitgF8hE_ab)\n",
    "* Calculus. Same as for linear algebra, [3Blue1Brown made an excellent series on Youtube](https://www.youtube.com/playlist?list=PLZHQObOWTQDMsr9K-rj53DwVRMYO3t5Yr)"
   ]
  },
  {
   "cell_type": "markdown",
   "id": "91e2ddaf",
   "metadata": {},
   "source": [
    "You don't need a prowerful computer. **We will only use free ressource**"
   ]
  },
  {
   "cell_type": "markdown",
   "id": "4defc42d",
   "metadata": {
    "slideshow": {
     "slide_type": "slide"
    }
   },
   "source": [
    "## What you’re going to learn to use"
   ]
  },
  {
   "cell_type": "markdown",
   "id": "5aeade46",
   "metadata": {},
   "source": [
    "<img align=\"left\" src=\"Pytorch_logo.png\" width=\"150\" height=\"150\">\n",
    "<br>\n",
    "<br>\n",
    "<img align=\"left\" src=\"KISYcqD.png\" width=\"150\" height=\"150\">\n",
    "<br>\n",
    "<br>\n",
    "<br>\n",
    "<img align=\"left\" src=\"Kaggle_logo.png\" width=\"150\" height=\"150\">\n",
    "<br>\n",
    "<br>\n",
    "<br>\n",
    "<br>\n",
    "<img align=\"left\" src=\"1200px-Jupyter_logo.svg.png\" width=\"100\" height=\"100\">"
   ]
  },
  {
   "cell_type": "code",
   "execution_count": null,
   "id": "23b369c6",
   "metadata": {},
   "outputs": [],
   "source": []
  }
 ],
 "metadata": {
  "celltoolbar": "Slideshow",
  "kernelspec": {
   "display_name": "Python 3",
   "language": "python",
   "name": "python3"
  },
  "language_info": {
   "codemirror_mode": {
    "name": "ipython",
    "version": 3
   },
   "file_extension": ".py",
   "mimetype": "text/x-python",
   "name": "python",
   "nbconvert_exporter": "python",
   "pygments_lexer": "ipython3",
   "version": "3.8.5"
  }
 },
 "nbformat": 4,
 "nbformat_minor": 5
}
